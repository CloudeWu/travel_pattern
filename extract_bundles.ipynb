{
 "cells": [
  {
   "cell_type": "code",
   "execution_count": 1,
   "metadata": {},
   "outputs": [],
   "source": [
    "import json"
   ]
  },
  {
   "cell_type": "code",
   "execution_count": 2,
   "metadata": {},
   "outputs": [],
   "source": [
    "with open('LB_lonelyplanet.json', 'r') as f:\n",
    "    data = json.load(f)"
   ]
  },
  {
   "cell_type": "code",
   "execution_count": 4,
   "metadata": {},
   "outputs": [
    {
     "data": {
      "text/plain": [
       "dict_keys(['History', ' Sights', 'c', 'k', 'ø', ' Activities', ' Courses', ' Festivals & Events', ' Sleeping', ' Eating', ' Drinking & Nightlife', ' Entertainment', ' Shopping', 'Information', 'Getting There & Away', 'Getting Around', ' Sleeping & Eating', ' Eating & Drinking', ' Sights ', 'Keelung', '¨', 'Climate', 'Getting There & Around', ' Sights & Activities', 'Hualien', ' Tours', 'Taichung', ' Drinking & Entertainment', 'Tainan', ' Activities & Tours', 'Makung (Penghu Island)'])"
      ]
     },
     "execution_count": 4,
     "metadata": {},
     "output_type": "execute_result"
    }
   ],
   "source": [
    "data.keys()"
   ]
  },
  {
   "cell_type": "code",
   "execution_count": 21,
   "metadata": {},
   "outputs": [
    {
     "data": {
      "text/plain": [
       "[]"
      ]
     },
     "execution_count": 21,
     "metadata": {},
     "output_type": "execute_result"
    }
   ],
   "source": [
    "data['History']"
   ]
  },
  {
   "cell_type": "code",
   "execution_count": 11,
   "metadata": {},
   "outputs": [
    {
     "data": {
      "text/plain": [
       "[['end of the', '10'], ['dedicated to the', '10'], ['closed on the', '7']]"
      ]
     },
     "execution_count": 11,
     "metadata": {},
     "output_type": "execute_result"
    }
   ],
   "source": [
    "data[' Sights'][:3]"
   ]
  },
  {
   "cell_type": "code",
   "execution_count": 27,
   "metadata": {},
   "outputs": [],
   "source": [
    "sight_data = set()\n",
    "for key, val in data.items():\n",
    "    if 'Sight' in key:\n",
    "        for lb in val:\n",
    "            sight_data.add(lb[0])"
   ]
  },
  {
   "cell_type": "code",
   "execution_count": 28,
   "metadata": {},
   "outputs": [
    {
     "data": {
      "text/plain": [
       "{'Ask for a',\n",
       " 'Beach is a',\n",
       " 'Burning of the',\n",
       " 'Burning of the Wang',\n",
       " 'Burning of the Wang Yeh',\n",
       " 'Bus route 862',\n",
       " 'Bus route 862 from',\n",
       " 'Check out the',\n",
       " 'Check the website',\n",
       " 'City God Temple',\n",
       " 'Exit 2 of',\n",
       " 'Facebook page for',\n",
       " 'Facebook page for the',\n",
       " 'Housed in the',\n",
       " 'Hwy 11 Km',\n",
       " 'Look for the',\n",
       " 'Look out for',\n",
       " 'Look out for the',\n",
       " 'Many of the',\n",
       " 'Most of the',\n",
       " 'Much of the',\n",
       " 'Night Market p',\n",
       " 'Note that the',\n",
       " 'Peak Y shn',\n",
       " 'Philippine and Eurasian',\n",
       " 'Pier- 2 Art',\n",
       " 'Pier- 2 Art Center',\n",
       " 'Rail Line and',\n",
       " 'Run by the',\n",
       " 'See their Facebook',\n",
       " 'See their Facebook page',\n",
       " 'See their Facebook page for',\n",
       " 'Set in a',\n",
       " 'Street Night Market',\n",
       " 'Tourist Shuttle Bus',\n",
       " 'Tourist Shuttle bus',\n",
       " 'allows you to',\n",
       " 'appears to be',\n",
       " 'area is a',\n",
       " 'area is now',\n",
       " 'arrange arrival times',\n",
       " 'ask for a',\n",
       " 'base from which',\n",
       " 'beers on tap',\n",
       " 'began to settle',\n",
       " 'best places to',\n",
       " 'birds-eye view of',\n",
       " 'birds-eye view of the',\n",
       " 'black sand beach',\n",
       " 'branch of the',\n",
       " 'bring your own',\n",
       " 'built by the',\n",
       " 'built in a',\n",
       " 'built in the',\n",
       " 'cafe on the',\n",
       " 'catch a glimpse',\n",
       " 'catch the R',\n",
       " 'changing of the',\n",
       " 'check out the',\n",
       " 'closed on the',\n",
       " 'closed on the first',\n",
       " 'closed on the first Monday',\n",
       " 'closed on the last',\n",
       " 'come for the',\n",
       " 'come to this',\n",
       " 'come with a',\n",
       " 'contrast to the',\n",
       " 'converted into a',\n",
       " 'copy of the',\n",
       " 'couple of hours',\n",
       " 'craft beers on',\n",
       " 'cross the road',\n",
       " 'cut into the',\n",
       " 'dates back to',\n",
       " 'dating back to',\n",
       " 'day of the',\n",
       " 'day trip from',\n",
       " 'day you can',\n",
       " 'days in advance',\n",
       " 'dedicated to Guandi',\n",
       " 'dedicated to the',\n",
       " 'dishes such as',\n",
       " 'doubles as a',\n",
       " 'drops you off',\n",
       " 'easy to spot',\n",
       " 'end of the',\n",
       " 'entrance to the',\n",
       " 'example of the',\n",
       " 'famed for its',\n",
       " 'famous for its',\n",
       " 'first Monday of',\n",
       " 'first Monday of the',\n",
       " 'fled to Taiwan',\n",
       " 'floor is a',\n",
       " 'formed by the',\n",
       " 'former tobacco factory',\n",
       " 'front of the',\n",
       " 'fronted by a',\n",
       " 'good place to',\n",
       " 'great place to',\n",
       " 'great views of',\n",
       " 'hall at the',\n",
       " 'hard to beat',\n",
       " 'head to the',\n",
       " 'head up the',\n",
       " 'held in the',\n",
       " 'high above the',\n",
       " 'highlight is the',\n",
       " 'history of the',\n",
       " 'hotel has a',\n",
       " 'hotel is a',\n",
       " 'housed in a',\n",
       " 'ice cream and',\n",
       " 'include breakfast and',\n",
       " 'km and takes',\n",
       " 'km from the',\n",
       " 'known as a',\n",
       " 'known as the',\n",
       " 'known for its',\n",
       " 'l i ch',\n",
       " 'leads to the',\n",
       " 'least a week',\n",
       " 'left and walk',\n",
       " 'left at the',\n",
       " 'left of the',\n",
       " 'let you sample',\n",
       " 'likely to be',\n",
       " 'little town of',\n",
       " 'local and international',\n",
       " 'local cuisine including',\n",
       " 'look for the',\n",
       " 'look out for',\n",
       " 'looks like a',\n",
       " 'main attractions are',\n",
       " 'main road from',\n",
       " 'main road to',\n",
       " 'make your own',\n",
       " 'makes a good',\n",
       " 'makes for a',\n",
       " 'making it a',\n",
       " 'many of the',\n",
       " 'meal sets that',\n",
       " 'milk tea NT',\n",
       " 'minutes on foot',\n",
       " 'minutes on foot from',\n",
       " 'most of the',\n",
       " 'mouth of the',\n",
       " 'much of its',\n",
       " 'much of the',\n",
       " 'museum is a',\n",
       " 'named after the',\n",
       " 'need your own',\n",
       " 'page for the',\n",
       " 'part of a',\n",
       " 'part of the',\n",
       " 'parts of the',\n",
       " 'person for a',\n",
       " 'place for a',\n",
       " 'place to stay',\n",
       " 'place to stroll',\n",
       " 'place to try',\n",
       " 'pm and 3',\n",
       " 'pm to 10',\n",
       " 'pray to the',\n",
       " 'r u mi',\n",
       " 'range of local',\n",
       " 'rate includes a',\n",
       " 'reach the summit',\n",
       " 'refers to the',\n",
       " 'rest of the',\n",
       " 'restaurant is a',\n",
       " 'road and walk',\n",
       " 'road to the',\n",
       " 'rooms and a',\n",
       " 'rooms come with',\n",
       " 'rooms that are',\n",
       " 'run by a',\n",
       " 'run by the',\n",
       " 'said to have',\n",
       " 'section of the',\n",
       " 'sections of the',\n",
       " 'seems to have',\n",
       " 'selection of dining',\n",
       " 'serves some of',\n",
       " 'serves some of the',\n",
       " 'set back from',\n",
       " 'set back from the',\n",
       " 'set in a',\n",
       " 'set in the',\n",
       " 'shaped like a',\n",
       " 'shop in the',\n",
       " 'shop on the',\n",
       " 'side of the',\n",
       " 'signature dish is',\n",
       " 'sits on the',\n",
       " 'southern end of',\n",
       " 'spot it by',\n",
       " 'spot this place',\n",
       " 'spot this place by',\n",
       " 'spread over a',\n",
       " 'stand-up paddleboarding SUP',\n",
       " 'start of the',\n",
       " 'station turn left',\n",
       " 'statue of the',\n",
       " 'stay in the',\n",
       " 'steps to the',\n",
       " 'stop at Km',\n",
       " 'stop if youre',\n",
       " 'stop on the',\n",
       " 'stops on the',\n",
       " 'such as a',\n",
       " 'such as the',\n",
       " 'sweeping views of',\n",
       " 'take a taxi',\n",
       " 'take a taxi from',\n",
       " 'take you to',\n",
       " 'tears p 319',\n",
       " 'temples in Taiwan',\n",
       " 'thanks to the',\n",
       " 'time of research',\n",
       " 'time to visit',\n",
       " 'top of the',\n",
       " 'trail to the',\n",
       " 'train station and',\n",
       " 'train station is',\n",
       " 'train station to',\n",
       " 'train station turn',\n",
       " 'train station turn left',\n",
       " 'train station walk',\n",
       " 'tucked behind the',\n",
       " 'turn left and',\n",
       " 'turn left at',\n",
       " 'turn left at the',\n",
       " 'use of the',\n",
       " 'used as a',\n",
       " 'used by the',\n",
       " 'used to be',\n",
       " 'used to be a',\n",
       " 'vehicle to get',\n",
       " 'view of the',\n",
       " 'views from the',\n",
       " 'views of Taipei',\n",
       " 'views of Taipei 101',\n",
       " 'views of the',\n",
       " 'views over the',\n",
       " 'village from the',\n",
       " 'wait for a',\n",
       " 'walk from the',\n",
       " 'walk to the',\n",
       " 'walls of the',\n",
       " 'want to see',\n",
       " 'warm and dry',\n",
       " 'watch the world',\n",
       " 'watch the world go',\n",
       " 'way to get',\n",
       " 'way to get here',\n",
       " 'way to get here is',\n",
       " 'website to see',\n",
       " 'website to see whats',\n",
       " 'weekends and holidays',\n",
       " 'wide range of',\n",
       " 'worth a visit',\n",
       " 'worth checking out',\n",
       " 'years ago in'}"
      ]
     },
     "execution_count": 28,
     "metadata": {},
     "output_type": "execute_result"
    }
   ],
   "source": [
    "sight_data"
   ]
  },
  {
   "cell_type": "code",
   "execution_count": 29,
   "metadata": {},
   "outputs": [],
   "source": [
    "all_lb = set()\n",
    "for key, val in data.items():\n",
    "    for lb in val:\n",
    "        all_lb.add(lb[0])"
   ]
  },
  {
   "cell_type": "markdown",
   "metadata": {},
   "source": [
    "### save"
   ]
  },
  {
   "cell_type": "code",
   "execution_count": 38,
   "metadata": {},
   "outputs": [],
   "source": [
    "with open('bundles.txt', 'w+') as f:\n",
    "    for lb in sorted(all_lb):\n",
    "        f.write(lb+'\\n')"
   ]
  },
  {
   "cell_type": "code",
   "execution_count": null,
   "metadata": {},
   "outputs": [],
   "source": []
  }
 ],
 "metadata": {
  "kernelspec": {
   "display_name": "Python 3",
   "language": "python",
   "name": "python3"
  },
  "language_info": {
   "codemirror_mode": {
    "name": "ipython",
    "version": 3
   },
   "file_extension": ".py",
   "mimetype": "text/x-python",
   "name": "python",
   "nbconvert_exporter": "python",
   "pygments_lexer": "ipython3",
   "version": "3.8.5"
  }
 },
 "nbformat": 4,
 "nbformat_minor": 4
}
