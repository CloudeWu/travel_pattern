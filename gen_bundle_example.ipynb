{
 "cells": [
  {
   "cell_type": "markdown",
   "metadata": {},
   "source": [
    "### get data"
   ]
  },
  {
   "cell_type": "code",
   "execution_count": 1,
   "metadata": {},
   "outputs": [],
   "source": [
    "import json"
   ]
  },
  {
   "cell_type": "code",
   "execution_count": 2,
   "metadata": {},
   "outputs": [],
   "source": [
    "with open('data/lonelyplanet_data.json') as f:\n",
    "    book = json.load(f)"
   ]
  },
  {
   "cell_type": "code",
   "execution_count": 3,
   "metadata": {},
   "outputs": [
    {
     "data": {
      "text/plain": [
       "dict_keys(['History', ' Sights', '1', '2', '3', '4', '5', '6', '7', '8', '9', 'a', 'b', 'c', 'd', 'e', 'f', 'g', 'h', 'i', 'j', 'k', 'L', 'ø', ' Activities', ' Courses', ' Festivals & Events', ' Sleeping', ' Eating', ' Drinking & Nightlife', ' Entertainment', ' Shopping', 'Information', 'Getting There & Away', 'Getting Around', ' Sleeping & Eating', ' Eating & Drinking', ' Sights ', 'Keelung', 'Includes ', '¨', 'Climate', 'Getting There & Around', ' Sights & Activities', 'Hualien', ' Tours', 'Taichung', ' Drinking & Entertainment', 'Tainan', ' Activities & Tours', 'Makung (Penghu Island)'])"
      ]
     },
     "execution_count": 3,
     "metadata": {},
     "output_type": "execute_result"
    }
   ],
   "source": [
    "book.keys()"
   ]
  },
  {
   "cell_type": "code",
   "execution_count": 4,
   "metadata": {},
   "outputs": [],
   "source": [
    "with open('data/LB_lonelyplanet.json') as f:\n",
    "    bundle_dict = json.load(f)"
   ]
  },
  {
   "cell_type": "code",
   "execution_count": 5,
   "metadata": {},
   "outputs": [
    {
     "data": {
      "text/plain": [
       "dict_keys(['History', ' Sights', 'c', 'k', 'ø', ' Activities', ' Courses', ' Festivals & Events', ' Sleeping', ' Eating', ' Drinking & Nightlife', ' Entertainment', ' Shopping', 'Information', 'Getting There & Away', 'Getting Around', ' Sleeping & Eating', ' Eating & Drinking', ' Sights ', 'Keelung', '¨', 'Climate', 'Getting There & Around', ' Sights & Activities', 'Hualien', ' Tours', 'Taichung', ' Drinking & Entertainment', 'Tainan', ' Activities & Tours', 'Makung (Penghu Island)'])"
      ]
     },
     "execution_count": 5,
     "metadata": {},
     "output_type": "execute_result"
    }
   ],
   "source": [
    "bundle_dict.keys()"
   ]
  },
  {
   "cell_type": "code",
   "execution_count": 11,
   "metadata": {},
   "outputs": [
    {
     "data": {
      "text/plain": [
       "'Taipei is such an architectural hotpot, with its temples, run-down walk-ups, colonial fin-ery, and modern skyscrapers and shopping malls, that it helps to understand how this modern capital came to be. Three hundred years ago it was a scattering of indigenous settlements; since then its been a Chinese tea-trading post, a Japanese colony, and a KMT base. Today its a Taiwanese society dreaming of success and international rec-ognition  a perplexing product of decades of turmoil.Since the late 90s and the countrys democratisation, the capital has made a remarkable transformation into one of the most liveable and vibrant cities in Asia. Despite big corruption cases, particularly involving infrastructure projects, Taipei has more visible heritage, and is cleaner, greener and more visitor-friendly, than ever before.The capital would not win any prizes for an impressive cityscape but the Taipei 101 (p83) area clearly has ambitions. The futur-istic Nanshan Plaza (p115) was completed in 2018, a'"
      ]
     },
     "execution_count": 11,
     "metadata": {},
     "output_type": "execute_result"
    }
   ],
   "source": [
    "book['History'][:1000]"
   ]
  },
  {
   "cell_type": "code",
   "execution_count": 22,
   "metadata": {},
   "outputs": [],
   "source": [
    "bundles = []\n",
    "with open('data/bundles_all.txt', 'r') as f:\n",
    "    bundles = f.read().split('\\n')"
   ]
  },
  {
   "cell_type": "code",
   "execution_count": 24,
   "metadata": {},
   "outputs": [],
   "source": [
    "bundles = bundles[:-1]    # strip empty lines"
   ]
  },
  {
   "cell_type": "markdown",
   "metadata": {},
   "source": [
    "## sentence tokenization"
   ]
  },
  {
   "cell_type": "code",
   "execution_count": 12,
   "metadata": {},
   "outputs": [],
   "source": [
    "import spacy\n",
    "nlp = spacy.load(\"en\")"
   ]
  },
  {
   "cell_type": "code",
   "execution_count": 19,
   "metadata": {},
   "outputs": [],
   "source": [
    "sentences = []\n",
    "for title, content in book.items():\n",
    "    paragraph = nlp(content)\n",
    "    sentences += [sent.string.strip() for sent in paragraph.sents]"
   ]
  },
  {
   "cell_type": "code",
   "execution_count": 20,
   "metadata": {},
   "outputs": [
    {
     "data": {
      "text/plain": [
       "['Taipei is such an architectural hotpot, with its temples, run-down walk-ups, colonial fin-ery, and modern skyscrapers and shopping malls, that it helps to understand how this modern capital came to be.',\n",
       " 'Three hundred years ago it was a scattering of indigenous settlements; since then its been a Chinese tea-trading post, a Japanese colony, and a KMT base.',\n",
       " 'Today its a Taiwanese society dreaming of success and international rec-ognition  a perplexing product of decades of turmoil.',\n",
       " 'Since the late 90s and the countrys democratisation, the capital has made a remarkable transformation into one of the most liveable and vibrant cities in Asia.',\n",
       " 'Despite big corruption cases, particularly involving infrastructure projects, Taipei has more visible heritage, and is cleaner, greener and more visitor-friendly, than ever before.']"
      ]
     },
     "execution_count": 20,
     "metadata": {},
     "output_type": "execute_result"
    }
   ],
   "source": [
    "sentences[:5]"
   ]
  },
  {
   "cell_type": "code",
   "execution_count": 21,
   "metadata": {},
   "outputs": [
    {
     "data": {
      "text/plain": [
       "5140"
      ]
     },
     "execution_count": 21,
     "metadata": {},
     "output_type": "execute_result"
    }
   ],
   "source": [
    "len(sentences)"
   ]
  },
  {
   "cell_type": "markdown",
   "metadata": {},
   "source": [
    "## get bundle-sent pair"
   ]
  },
  {
   "cell_type": "code",
   "execution_count": 34,
   "metadata": {},
   "outputs": [],
   "source": [
    "pairs = {}\n",
    "for bundle in bundles:\n",
    "    pairs[bundle] = []\n",
    "    for sent in sentences:\n",
    "        if bundle in sent:\n",
    "            pairs[bundle].append(sent)"
   ]
  },
  {
   "cell_type": "code",
   "execution_count": 36,
   "metadata": {},
   "outputs": [
    {
     "data": {
      "text/plain": [
       "['Ask for a rear-facing room to avoid noise pollution from the main road.',\n",
       " 'Ask for a room at the rear if youre bothered by road noise.',\n",
       " 'Ask for a tour of the tea factory in the back.']"
      ]
     },
     "execution_count": 36,
     "metadata": {},
     "output_type": "execute_result"
    }
   ],
   "source": [
    "pairs['Ask for a']"
   ]
  },
  {
   "cell_type": "markdown",
   "metadata": {},
   "source": [
    "## write file\n",
    "\n",
    "Format:\n",
    "```\n",
    "bundle1\n",
    "sent1-1\n",
    "sent1-2\n",
    "...\n",
    "\n",
    "bundle2\n",
    "sent2-1\n",
    "sent2-2\n",
    "...\n",
    "```"
   ]
  },
  {
   "cell_type": "code",
   "execution_count": 38,
   "metadata": {},
   "outputs": [],
   "source": [
    "isFirst = True\n",
    "f = open('data/bundle_sentences.txt', 'w+')\n",
    "for bundle, sents in pairs.items():\n",
    "    if not len(sents):\n",
    "        continue\n",
    "    if not isFirst:\n",
    "        f.write('\\n\\n')\n",
    "    else:\n",
    "        isFirst = False\n",
    "    f.write(bundle)\n",
    "    for sent in sents:\n",
    "        f.write(f'\\n{sent}')\n",
    "f.close()"
   ]
  },
  {
   "cell_type": "code",
   "execution_count": null,
   "metadata": {},
   "outputs": [],
   "source": []
  }
 ],
 "metadata": {
  "kernelspec": {
   "display_name": "Python3.7 [env]",
   "language": "python",
   "name": "travel_pattern"
  },
  "language_info": {
   "codemirror_mode": {
    "name": "ipython",
    "version": 3
   },
   "file_extension": ".py",
   "mimetype": "text/x-python",
   "name": "python",
   "nbconvert_exporter": "python",
   "pygments_lexer": "ipython3",
   "version": "3.7.9"
  }
 },
 "nbformat": 4,
 "nbformat_minor": 4
}
