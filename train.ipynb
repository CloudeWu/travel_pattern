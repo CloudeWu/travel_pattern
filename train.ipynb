{
 "cells": [
  {
   "cell_type": "code",
   "execution_count": 1,
   "metadata": {},
   "outputs": [],
   "source": [
    "from gensim.models import Word2Vec"
   ]
  },
  {
   "cell_type": "code",
   "execution_count": null,
   "metadata": {},
   "outputs": [],
   "source": [
    "from gensim.models.callbacks import CallbackAny2Vec"
   ]
  },
  {
   "cell_type": "markdown",
   "metadata": {},
   "source": [
    "## load data"
   ]
  },
  {
   "cell_type": "code",
   "execution_count": null,
   "metadata": {},
   "outputs": [],
   "source": [
    "INPUT_FILE = 'data/'"
   ]
  },
  {
   "cell_type": "code",
   "execution_count": 2,
   "metadata": {},
   "outputs": [],
   "source": [
    "with open('data/unhyphened_tokenized_sent.txt', 'r') as f:\n",
    "    data = f.read().split('\\n')"
   ]
  },
  {
   "cell_type": "code",
   "execution_count": 3,
   "metadata": {},
   "outputs": [],
   "source": [
    "# remove spaces\n",
    "sentences = [[token for token in line.split(' ') if token != ''] for line in data]"
   ]
  },
  {
   "cell_type": "code",
   "execution_count": 4,
   "metadata": {},
   "outputs": [
    {
     "data": {
      "text/plain": [
       "['head',\n",
       " 'down',\n",
       " 'to',\n",
       " 'the',\n",
       " 'river',\n",
       " 'from',\n",
       " 'the',\n",
       " 'museum',\n",
       " 'of',\n",
       " 'drinking',\n",
       " 'water',\n",
       " '(',\n",
       " 'p',\n",
       " ')',\n",
       " ',',\n",
       " 'turn',\n",
       " 'leave',\n",
       " ',',\n",
       " 'and',\n",
       " '-PRON-',\n",
       " 'will',\n",
       " 'soon',\n",
       " 'come',\n",
       " 'across',\n",
       " 'this',\n",
       " 'charming',\n",
       " 'art',\n",
       " 'village']"
      ]
     },
     "execution_count": 4,
     "metadata": {},
     "output_type": "execute_result"
    }
   ],
   "source": [
    "sentences[0]"
   ]
  },
  {
   "cell_type": "markdown",
   "metadata": {},
   "source": [
    "## train model"
   ]
  },
  {
   "cell_type": "code",
   "execution_count": 16,
   "metadata": {},
   "outputs": [
    {
     "name": "stdout",
     "output_type": "stream",
     "text": [
      "Loss after epoch   3:    100.324\n"
     ]
    }
   ],
   "source": [
    "print('Loss after epoch {:3d}: {:10.3f}'.format(3, 100.324))"
   ]
  },
  {
   "cell_type": "code",
   "execution_count": 8,
   "metadata": {},
   "outputs": [],
   "source": []
  },
  {
   "cell_type": "code",
   "execution_count": 20,
   "metadata": {},
   "outputs": [],
   "source": [
    "class callback(CallbackAny2Vec):\n",
    "    '''Callback to print loss after each epoch.'''\n",
    "    def __init__(self, loss_record = []):\n",
    "        self.epoch = 0\n",
    "        self.total_loss = 0\n",
    "        self.record = loss_record\n",
    "\n",
    "    def on_epoch_end(self, model):\n",
    "        loss = model.get_latest_training_loss() - self.total_loss\n",
    "        self.record.append(loss)\n",
    "        self.total_loss = model.get_latest_training_loss()\n",
    "        print('Loss after epoch {:3d}: {:10.3f}'.format(self.epoch, loss))\n",
    "        self.epoch += 1"
   ]
  },
  {
   "cell_type": "code",
   "execution_count": 21,
   "metadata": {},
   "outputs": [],
   "source": [
    "loss = []"
   ]
  },
  {
   "cell_type": "code",
   "execution_count": 22,
   "metadata": {},
   "outputs": [
    {
     "name": "stdout",
     "output_type": "stream",
     "text": [
      "Loss after epoch   0:  66192.406\n",
      "Loss after epoch   1:  52306.836\n",
      "Loss after epoch   2:  50540.539\n",
      "Loss after epoch   3:  50112.609\n",
      "Loss after epoch   4:  49121.359\n",
      "Loss after epoch   5:  48657.875\n",
      "Loss after epoch   6:  47740.719\n",
      "Loss after epoch   7:  47004.062\n",
      "Loss after epoch   8:  46127.906\n",
      "Loss after epoch   9:  45738.438\n",
      "Loss after epoch  10:  44718.625\n",
      "Loss after epoch  11:  44370.062\n",
      "Loss after epoch  12:  43691.875\n",
      "Loss after epoch  13:  43214.375\n",
      "Loss after epoch  14:  42383.125\n",
      "Loss after epoch  15:  41873.062\n",
      "Loss after epoch  16:  41094.562\n",
      "Loss after epoch  17:  40803.062\n",
      "Loss after epoch  18:  40108.125\n",
      "Loss after epoch  19:  39268.000\n",
      "Loss after epoch  20:  38634.562\n",
      "Loss after epoch  21:  38128.688\n",
      "Loss after epoch  22:  37861.312\n",
      "Loss after epoch  23:  37026.438\n",
      "Loss after epoch  24:  36318.250\n",
      "Loss after epoch  25:  36126.875\n",
      "Loss after epoch  26:  35323.500\n",
      "Loss after epoch  27:  35088.375\n",
      "Loss after epoch  28:  34372.000\n",
      "Loss after epoch  29:  34115.125\n",
      "Loss after epoch  30:  33606.500\n",
      "Loss after epoch  31:  33091.875\n",
      "Loss after epoch  32:  32668.375\n",
      "Loss after epoch  33:  32652.250\n",
      "Loss after epoch  34:  31966.125\n",
      "Loss after epoch  35:  31559.125\n",
      "Loss after epoch  36:  30820.375\n",
      "Loss after epoch  37:  30653.375\n",
      "Loss after epoch  38:  30317.000\n",
      "Loss after epoch  39:  29813.875\n",
      "Loss after epoch  40:  29546.250\n",
      "Loss after epoch  41:  29423.750\n",
      "Loss after epoch  42:  29024.500\n",
      "Loss after epoch  43:  28833.250\n",
      "Loss after epoch  44:  28413.500\n",
      "Loss after epoch  45:  28094.250\n",
      "Loss after epoch  46:  27856.750\n",
      "Loss after epoch  47:  27565.000\n",
      "Loss after epoch  48:  27565.000\n",
      "Loss after epoch  49:  27341.500\n",
      "Loss after epoch  50:  26864.375\n",
      "Loss after epoch  51:  26672.500\n",
      "Loss after epoch  52:  26423.250\n",
      "Loss after epoch  53:  25961.750\n",
      "Loss after epoch  54:  26150.250\n",
      "Loss after epoch  55:  26060.500\n",
      "Loss after epoch  56:  25510.500\n",
      "Loss after epoch  57:  25387.500\n",
      "Loss after epoch  58:  24352.750\n",
      "Loss after epoch  59:  23878.500\n",
      "Loss after epoch  60:  23503.000\n",
      "Loss after epoch  61:  23384.000\n",
      "Loss after epoch  62:  23310.000\n",
      "Loss after epoch  63:  23455.000\n",
      "Loss after epoch  64:  23156.250\n",
      "Loss after epoch  65:  22745.000\n",
      "Loss after epoch  66:  22749.500\n",
      "Loss after epoch  67:  22554.250\n",
      "Loss after epoch  68:  22138.250\n",
      "Loss after epoch  69:  22526.000\n",
      "Loss after epoch  70:  22148.500\n",
      "Loss after epoch  71:  22013.250\n",
      "Loss after epoch  72:  22211.250\n",
      "Loss after epoch  73:  21994.000\n",
      "Loss after epoch  74:  21949.000\n",
      "Loss after epoch  75:  21746.250\n",
      "Loss after epoch  76:  21851.750\n",
      "Loss after epoch  77:  21470.250\n",
      "Loss after epoch  78:  21343.750\n",
      "Loss after epoch  79:  21612.500\n",
      "Loss after epoch  80:  20938.750\n",
      "Loss after epoch  81:  21228.750\n",
      "Loss after epoch  82:  21162.750\n",
      "Loss after epoch  83:  21208.500\n",
      "Loss after epoch  84:  21012.000\n",
      "Loss after epoch  85:  21278.750\n",
      "Loss after epoch  86:  20800.500\n",
      "Loss after epoch  87:  20997.000\n",
      "Loss after epoch  88:  20720.750\n",
      "Loss after epoch  89:  20702.000\n",
      "Loss after epoch  90:  20658.500\n",
      "Loss after epoch  91:  20713.000\n",
      "Loss after epoch  92:  20592.000\n",
      "Loss after epoch  93:  20715.000\n",
      "Loss after epoch  94:  20549.000\n",
      "Loss after epoch  95:  20425.500\n",
      "Loss after epoch  96:  20432.750\n",
      "Loss after epoch  97:  20486.250\n",
      "Loss after epoch  98:  20300.750\n",
      "Loss after epoch  99:  20206.250\n"
     ]
    }
   ],
   "source": [
    "model = Word2Vec(sentences, \n",
    "                 size = 300,\n",
    "                 iter = 20,\n",
    "                 compute_loss = True,\n",
    "                 callbacks=[callback(loss)])"
   ]
  },
  {
   "cell_type": "code",
   "execution_count": 23,
   "metadata": {},
   "outputs": [
    {
     "data": {
      "text/plain": [
       "[66192.40625,\n",
       " 52306.8359375,\n",
       " 50540.5390625,\n",
       " 50112.609375,\n",
       " 49121.359375,\n",
       " 48657.875,\n",
       " 47740.71875,\n",
       " 47004.0625,\n",
       " 46127.90625,\n",
       " 45738.4375,\n",
       " 44718.625,\n",
       " 44370.0625,\n",
       " 43691.875,\n",
       " 43214.375,\n",
       " 42383.125,\n",
       " 41873.0625,\n",
       " 41094.5625,\n",
       " 40803.0625,\n",
       " 40108.125,\n",
       " 39268.0,\n",
       " 38634.5625,\n",
       " 38128.6875,\n",
       " 37861.3125,\n",
       " 37026.4375,\n",
       " 36318.25,\n",
       " 36126.875,\n",
       " 35323.5,\n",
       " 35088.375,\n",
       " 34372.0,\n",
       " 34115.125,\n",
       " 33606.5,\n",
       " 33091.875,\n",
       " 32668.375,\n",
       " 32652.25,\n",
       " 31966.125,\n",
       " 31559.125,\n",
       " 30820.375,\n",
       " 30653.375,\n",
       " 30317.0,\n",
       " 29813.875,\n",
       " 29546.25,\n",
       " 29423.75,\n",
       " 29024.5,\n",
       " 28833.25,\n",
       " 28413.5,\n",
       " 28094.25,\n",
       " 27856.75,\n",
       " 27565.0,\n",
       " 27565.0,\n",
       " 27341.5,\n",
       " 26864.375,\n",
       " 26672.5,\n",
       " 26423.25,\n",
       " 25961.75,\n",
       " 26150.25,\n",
       " 26060.5,\n",
       " 25510.5,\n",
       " 25387.5,\n",
       " 24352.75,\n",
       " 23878.5,\n",
       " 23503.0,\n",
       " 23384.0,\n",
       " 23310.0,\n",
       " 23455.0,\n",
       " 23156.25,\n",
       " 22745.0,\n",
       " 22749.5,\n",
       " 22554.25,\n",
       " 22138.25,\n",
       " 22526.0,\n",
       " 22148.5,\n",
       " 22013.25,\n",
       " 22211.25,\n",
       " 21994.0,\n",
       " 21949.0,\n",
       " 21746.25,\n",
       " 21851.75,\n",
       " 21470.25,\n",
       " 21343.75,\n",
       " 21612.5,\n",
       " 20938.75,\n",
       " 21228.75,\n",
       " 21162.75,\n",
       " 21208.5,\n",
       " 21012.0,\n",
       " 21278.75,\n",
       " 20800.5,\n",
       " 20997.0,\n",
       " 20720.75,\n",
       " 20702.0,\n",
       " 20658.5,\n",
       " 20713.0,\n",
       " 20592.0,\n",
       " 20715.0,\n",
       " 20549.0,\n",
       " 20425.5,\n",
       " 20432.75,\n",
       " 20486.25,\n",
       " 20300.75,\n",
       " 20206.25]"
      ]
     },
     "execution_count": 23,
     "metadata": {},
     "output_type": "execute_result"
    }
   ],
   "source": [
    "loss"
   ]
  },
  {
   "cell_type": "code",
   "execution_count": 7,
   "metadata": {},
   "outputs": [
    {
     "data": {
      "text/plain": [
       "3009968.25"
      ]
     },
     "execution_count": 7,
     "metadata": {},
     "output_type": "execute_result"
    }
   ],
   "source": [
    "model.get_latest_training_loss()"
   ]
  },
  {
   "cell_type": "code",
   "execution_count": null,
   "metadata": {},
   "outputs": [],
   "source": [
    "model.train()"
   ]
  },
  {
   "cell_type": "code",
   "execution_count": 26,
   "metadata": {},
   "outputs": [
    {
     "data": {
      "text/plain": [
       "(0.0,\n",
       " [{'section': 'capital-common-countries', 'correct': [], 'incorrect': []},\n",
       "  {'section': 'capital-world', 'correct': [], 'incorrect': []},\n",
       "  {'section': 'currency', 'correct': [], 'incorrect': []},\n",
       "  {'section': 'city-in-state', 'correct': [], 'incorrect': []},\n",
       "  {'section': 'family', 'correct': [], 'incorrect': []},\n",
       "  {'section': 'gram1-adjective-to-adverb',\n",
       "   'correct': [],\n",
       "   'incorrect': [('MOST', 'MOSTLY', 'POSSIBLE', 'POSSIBLY'),\n",
       "    ('POSSIBLE', 'POSSIBLY', 'MOST', 'MOSTLY')]},\n",
       "  {'section': 'gram2-opposite', 'correct': [], 'incorrect': []},\n",
       "  {'section': 'gram3-comparative', 'correct': [], 'incorrect': []},\n",
       "  {'section': 'gram4-superlative', 'correct': [], 'incorrect': []},\n",
       "  {'section': 'gram5-present-participle',\n",
       "   'correct': [],\n",
       "   'incorrect': [('READ', 'READING', 'SWIM', 'SWIMMING'),\n",
       "    ('SWIM', 'SWIMMING', 'READ', 'READING')]},\n",
       "  {'section': 'gram6-nationality-adjective',\n",
       "   'correct': [],\n",
       "   'incorrect': [('CHINA', 'CHINESE', 'JAPAN', 'JAPANESE'),\n",
       "    ('JAPAN', 'JAPANESE', 'CHINA', 'CHINESE')]},\n",
       "  {'section': 'gram7-past-tense', 'correct': [], 'incorrect': []},\n",
       "  {'section': 'gram8-plural',\n",
       "   'correct': [],\n",
       "   'incorrect': [('MAN', 'MEN', 'WOMAN', 'WOMEN'),\n",
       "    ('WOMAN', 'WOMEN', 'MAN', 'MEN')]},\n",
       "  {'section': 'gram9-plural-verbs', 'correct': [], 'incorrect': []},\n",
       "  {'section': 'Total accuracy',\n",
       "   'correct': [],\n",
       "   'incorrect': [('MOST', 'MOSTLY', 'POSSIBLE', 'POSSIBLY'),\n",
       "    ('POSSIBLE', 'POSSIBLY', 'MOST', 'MOSTLY'),\n",
       "    ('READ', 'READING', 'SWIM', 'SWIMMING'),\n",
       "    ('SWIM', 'SWIMMING', 'READ', 'READING'),\n",
       "    ('CHINA', 'CHINESE', 'JAPAN', 'JAPANESE'),\n",
       "    ('JAPAN', 'JAPANESE', 'CHINA', 'CHINESE'),\n",
       "    ('MAN', 'MEN', 'WOMAN', 'WOMEN'),\n",
       "    ('WOMAN', 'WOMEN', 'MAN', 'MEN')]}])"
      ]
     },
     "execution_count": 26,
     "metadata": {},
     "output_type": "execute_result"
    }
   ],
   "source": [
    "model.wv.evaluate_word_analogies('./data/questions-words.txt')"
   ]
  },
  {
   "cell_type": "code",
   "execution_count": 27,
   "metadata": {},
   "outputs": [],
   "source": [
    "model.save('model0908/model')"
   ]
  },
  {
   "cell_type": "code",
   "execution_count": 29,
   "metadata": {},
   "outputs": [],
   "source": [
    "model2 = Word2Vec.load('model0908/model')"
   ]
  },
  {
   "cell_type": "code",
   "execution_count": 30,
   "metadata": {},
   "outputs": [],
   "source": [
    "wv = model2.wv"
   ]
  },
  {
   "cell_type": "code",
   "execution_count": 31,
   "metadata": {},
   "outputs": [
    {
     "data": {
      "text/plain": [
       "array([ 9.51078117e-01,  5.59389174e-01,  6.59767866e-01, -6.04505062e-01,\n",
       "       -1.22548878e-01, -8.66256714e-01, -9.38208401e-01,  1.36777031e+00,\n",
       "       -2.99637944e-01, -1.21089637e+00,  1.38088739e+00,  2.19802427e+00,\n",
       "       -4.63909626e-01, -6.70298338e-02,  1.08959460e+00,  4.38121080e-01,\n",
       "        8.36748123e-01, -4.10193443e-01,  1.93357870e-01,  4.41122979e-01,\n",
       "       -6.55516088e-01,  2.25814652e+00, -2.14351368e+00,  1.09360838e+00,\n",
       "       -8.56462717e-01,  1.70992351e+00, -9.34902966e-01, -5.58280587e-01,\n",
       "       -2.58142591e-01,  7.13660955e-01, -5.46232939e-01, -5.73939204e-01,\n",
       "        6.34560645e-01, -8.69602859e-01,  3.42655599e-01, -1.34954047e+00,\n",
       "        7.77718246e-01, -1.61491036e-01,  9.69480455e-01, -1.06611037e+00,\n",
       "        4.67451453e-01, -9.23522651e-01,  4.00908232e-01, -1.15980327e+00,\n",
       "       -2.98833668e-01,  1.32206410e-01,  1.26447988e+00,  3.63334827e-02,\n",
       "        7.61256218e-01, -4.21543658e-01,  4.14517701e-01,  5.41409016e-01,\n",
       "       -1.09076373e-01,  4.67122436e-01, -6.04683697e-01,  1.99224031e+00,\n",
       "        1.85742807e+00,  7.14446828e-02, -4.77794945e-01, -1.25319993e+00,\n",
       "       -1.23471725e+00,  1.82316196e+00,  1.15057051e-01, -7.18224123e-02,\n",
       "       -9.66802388e-02,  4.23940182e-01, -5.54528832e-01,  1.33286393e+00,\n",
       "        3.81563678e-02, -7.24836230e-01,  1.15559673e+00,  3.48338127e-01,\n",
       "        4.49256033e-01, -1.83336604e+00,  1.59648955e-01,  1.21545768e+00,\n",
       "       -3.49558353e-01,  1.68928444e-01, -1.95030183e-01, -2.66333371e-01,\n",
       "        8.11749220e-01,  1.58265263e-01, -4.72563095e-02, -3.31664026e-01,\n",
       "       -1.19505815e-01, -1.34894133e+00, -4.51835215e-01,  3.16868663e-01,\n",
       "       -2.90542364e-01, -1.37255177e-01, -1.73311198e+00, -3.18542309e-02,\n",
       "       -1.81933391e+00,  4.53032017e-01, -5.09902835e-01,  2.26707291e-02,\n",
       "        7.62035668e-01,  4.22995359e-01, -2.33674183e-01,  1.73262939e-01,\n",
       "       -6.72994077e-01, -5.39779186e-01,  1.80914569e+00, -1.15906231e-01,\n",
       "       -1.07567823e+00, -8.04629207e-01, -5.93014657e-01,  6.28033876e-01,\n",
       "        6.93955719e-01, -1.33880898e-01, -9.32820082e-01, -1.98897079e-01,\n",
       "       -1.85372964e-01, -2.32406449e+00, -1.30930936e+00,  6.70875907e-01,\n",
       "       -1.71141684e+00,  2.08799267e+00,  1.64030385e+00, -2.67128408e-01,\n",
       "        2.04795733e-01, -1.64994419e-01, -1.33997705e-02,  8.75142574e-01,\n",
       "        7.20459998e-01, -1.51776278e+00,  2.04292133e-01, -8.91614974e-01,\n",
       "        1.56936750e-01, -1.03700411e+00,  1.46022558e+00,  1.37975454e+00,\n",
       "       -5.06162405e-01, -1.25715539e-01,  1.21492766e-01, -9.29707050e-01,\n",
       "        2.00474232e-01,  1.47876883e+00, -1.01162040e+00, -1.09454811e+00,\n",
       "        8.22091699e-01, -1.71879029e+00,  8.78969610e-01,  3.90236199e-01,\n",
       "       -9.61305261e-01, -3.84554952e-01, -8.90629308e-04, -1.02591407e+00,\n",
       "        1.69024742e+00, -2.60472089e-01, -6.85008347e-01,  1.23606122e+00,\n",
       "        8.28802407e-01, -5.13550937e-01,  3.92957419e-01, -1.29712987e+00,\n",
       "       -6.42440990e-02,  9.82734203e-01, -1.13870895e+00,  3.43627810e-01,\n",
       "       -5.91432989e-01, -6.51210368e-01, -4.89842385e-01,  2.49144256e-01,\n",
       "        7.56641209e-01,  7.75434971e-01,  1.76396340e-01, -1.16262043e+00,\n",
       "        3.68039049e-02, -2.91698754e-01,  1.63321614e+00, -1.74355519e+00,\n",
       "        1.61201382e+00,  1.03922293e-01,  6.00234091e-01, -1.01619983e+00,\n",
       "       -1.61130142e+00,  1.42128915e-01, -3.26988846e-01,  1.85433581e-01,\n",
       "        6.01044416e-01,  9.49886322e-01, -1.72282159e+00, -6.09514296e-01,\n",
       "       -2.29263592e+00,  7.36798108e-01,  1.34199655e+00, -5.62760949e-01,\n",
       "       -1.25564292e-01,  9.74389434e-01, -9.91092920e-01, -5.59531271e-01,\n",
       "        4.09773558e-01, -1.70649505e+00, -1.04891264e+00,  5.62848508e-01,\n",
       "        6.39642417e-01, -3.39763969e-01, -1.10380971e+00,  5.88229418e-01,\n",
       "       -3.11980188e-01,  5.93533993e-01, -1.59960940e-01,  4.34499383e-01,\n",
       "       -1.45251322e+00,  1.63319719e+00,  1.83875576e-01, -1.43598235e+00,\n",
       "       -5.73319316e-01, -8.09986591e-01,  1.84174228e+00,  1.64895922e-01,\n",
       "        9.70012009e-01, -6.32618785e-01, -1.02033043e+00,  1.19784176e+00,\n",
       "       -1.06529224e+00,  7.88359761e-01,  1.71806979e+00, -1.54144835e+00,\n",
       "       -2.22077399e-01, -4.97705787e-01, -9.43946421e-01,  9.76938903e-02,\n",
       "       -7.54553139e-01,  5.21646202e-01,  4.38002914e-01,  1.37344813e+00,\n",
       "        1.08097124e+00, -1.30739421e-01, -5.14941514e-01, -5.73956370e-01,\n",
       "       -2.83123159e+00,  1.18189669e+00,  1.36003816e+00, -7.03558385e-01,\n",
       "       -5.81729770e-01, -8.07985425e-01,  1.24375951e+00, -1.06311023e-01,\n",
       "       -1.07878482e+00,  1.37162149e+00,  1.49532819e+00,  4.13778484e-01,\n",
       "        8.05300593e-01,  1.72055531e-02,  1.33387053e+00,  3.01645964e-01,\n",
       "        3.10621202e-01,  2.34536957e-02, -6.10232532e-01,  6.59004569e-01,\n",
       "       -3.26421887e-01, -5.80845416e-01,  3.02343041e-01, -3.98005396e-01,\n",
       "        5.49566388e-01,  2.86376953e-01,  1.16473758e+00, -6.03640914e-01,\n",
       "       -1.15785408e+00,  5.08241713e-01,  2.78388119e+00,  1.01754689e+00,\n",
       "        5.19189358e-01,  8.84860903e-02, -4.27697271e-01, -1.18565655e+00,\n",
       "        2.56818771e-01,  1.33122849e+00,  4.41563845e-01,  2.13815376e-01,\n",
       "       -1.79036632e-01,  8.02139223e-01,  1.20135856e+00,  5.49605370e-01,\n",
       "        6.17448807e-01, -1.01050049e-01,  8.39959860e-01,  8.40883493e-01,\n",
       "       -8.21161509e-01, -3.05107623e-01, -1.82029665e+00,  4.67345804e-01,\n",
       "       -2.40374714e-01, -8.32299888e-01, -1.44038820e+00,  5.38455188e-01,\n",
       "        1.10827081e-01, -8.81640092e-02, -7.26988018e-01, -6.76418066e-01,\n",
       "       -2.14363024e-01, -4.39825028e-01,  9.88594890e-02, -2.03096166e-01,\n",
       "        6.52777553e-01,  1.89935625e-01,  2.92526577e-02, -1.41119552e+00],\n",
       "      dtype=float32)"
      ]
     },
     "execution_count": 31,
     "metadata": {},
     "output_type": "execute_result"
    }
   ],
   "source": [
    "wv['look']"
   ]
  },
  {
   "cell_type": "code",
   "execution_count": null,
   "metadata": {},
   "outputs": [],
   "source": []
  }
 ],
 "metadata": {
  "kernelspec": {
   "display_name": "Python3.8 [travel_pattern]",
   "language": "python",
   "name": "travel_pattern"
  },
  "language_info": {
   "codemirror_mode": {
    "name": "ipython",
    "version": 3
   },
   "file_extension": ".py",
   "mimetype": "text/x-python",
   "name": "python",
   "nbconvert_exporter": "python",
   "pygments_lexer": "ipython3",
   "version": "3.8.5"
  }
 },
 "nbformat": 4,
 "nbformat_minor": 4
}
